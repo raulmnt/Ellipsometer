{
 "cells": [
  {
   "cell_type": "code",
   "execution_count": 19,
   "id": "39518526",
   "metadata": {},
   "outputs": [],
   "source": [
    "import numpy as np\n",
    "import pandas as pd\n",
    "import tmm\n",
    "\n",
    "# imports and setup for tmm\n",
    "from __future__ import division, print_function, absolute_import\n",
    "\n",
    "from tmm import (coh_tmm, unpolarized_RT, ellips,\n",
    "                       position_resolved, find_in_structure_with_inf)\n",
    "\n",
    "from numpy import pi, linspace, inf, array\n",
    "from scipy.interpolate import interp1d\n",
    "import matplotlib.pyplot as plt\n",
    "%matplotlib inline\n",
    "import math\n",
    "\n",
    "# \"5 * degree\" is 5 degrees expressed in radians\n",
    "# \"1.2 / degree\" is 1.2 radians expressed in degrees\n",
    "degree = pi/180"
   ]
  },
  {
   "cell_type": "markdown",
   "id": "5749fd5c",
   "metadata": {},
   "source": [
    "# Define imaginary dielectric function for a single Tauc-Lorentz Oscillator"
   ]
  },
  {
   "cell_type": "code",
   "execution_count": 20,
   "id": "7d3ff244",
   "metadata": {},
   "outputs": [],
   "source": [
    "def epsilon_i_TL(A,E_0,C,E_g,E):\n",
    "    \n",
    "    if E>E_g:\n",
    "        epsilon_i_TL=(1/E)*(A*E_0*C)*(E-E_g)**2/((E**2-(E_0)**2)**2+C**2*E**2)\n",
    "    else:\n",
    "        epsilon_i_TL=0;\n",
    "  \n",
    "    return epsilon_i_TL"
   ]
  },
  {
   "cell_type": "markdown",
   "id": "a876791e",
   "metadata": {},
   "source": [
    "# Define real dielectric function for a single Tauc-Lorentz Oscillator"
   ]
  },
  {
   "cell_type": "code",
   "execution_count": 21,
   "id": "ef657df1",
   "metadata": {},
   "outputs": [],
   "source": [
    "def epsilon_r_TL(A,E_0,C,E_g,E):\n",
    "    a_ln=(E_g**2-E_0**2)*E**2+E_g**2*C**2-E_0**2*(E_0**2+3*E_g**2)\n",
    "    a_a=(E**2-E_0**2)*(E_0**2+E_g**2)+E_g**2*C**2\n",
    "    alpha=(4*E_0**2-C**2)**(1/2)\n",
    "    gamma=(E_0**2-C**2/2)**(1/2)\n",
    "    zeta_4=(E**2-gamma**2)**2+alpha**2*C**2/4\n",
    "    \n",
    "    epsilon_r_TL=((A*C*a_ln)/(2*pi*zeta_4*alpha*E_0))\\\n",
    "    *math.log((E_0**2+E_g**2+alpha*E_g)/(E_0**2+E_g**2-alpha*E_g))\\\n",
    "    -((A*a_a)/(pi*zeta_4*E_0))*(pi-math.atan((2*E_g+alpha)/C)\\\n",
    "    +math.atan((alpha-2*E_g)/C))\\\n",
    "    +(4*A*E_0*E_g*(E**2-gamma**2)/(pi*zeta_4*alpha))\\\n",
    "    *(math.atan((alpha+2*E_g)/C)+math.atan((alpha-2*E_g)/C))\\\n",
    "    -(A*E_0*C*(E**2+E_g**2)/(pi*zeta_4*E))*math.log(abs(E-E_g)/(E+E_g))\\\n",
    "    +((2*A*E_0*C)/(pi*zeta_4))*E_g\\\n",
    "    *math.log((abs(E-E_g)*(E+E_g))/((E_0**2-E_g**2)**2+E_g**2*C**2)**(1/2))\n",
    "    \n",
    "    return epsilon_r_TL"
   ]
  },
  {
   "cell_type": "markdown",
   "id": "1493a803",
   "metadata": {},
   "source": [
    "# Perovskite model with multiple Tauc-Lorentz oscillators\n",
    "in this case the model consist on 5 Tauc-Lorentz oscillators, usually the band gap of the material will be the same (E_g) for all the oscillators but for a more general code here I label the E_g for each oscillator. "
   ]
  },
  {
   "cell_type": "code",
   "execution_count": 22,
   "id": "09605707",
   "metadata": {},
   "outputs": [],
   "source": [
    "def nk_perovskite(params):\n",
    "    \n",
    "    #the number of params depends on the number of oscilators, for N oscilators this is 4N+2\n",
    "    \n",
    "    params=A_1,E_0_1,C_1,E_g_1,\\\n",
    "           A_2,E_0_2,C_2,E_g_2,\\\n",
    "           A_3,E_0_3,C_3,E_g_3,\\\n",
    "           A_4,E_0_4,C_4,E_g_4,\\\n",
    "           A_5,E_0_5,C_5,E_g_5,\\\n",
    "           E, epsilon_inf\n",
    "    \n",
    "    #Define dielectric function for multiple oscillators this section will\n",
    "    #be different for every material \n",
    "    \n",
    "    epsilon_i=epsilon_i_TL(A_1,E_0_1,C_1,E_g_1,E)+\\\n",
    "              epsilon_i_TL(A_2,E_0_2,C_2,E_g_2,E)+\\\n",
    "              epsilon_i_TL(A_3,E_0_3,C_3,E_g_3,E)+\\\n",
    "              epsilon_i_TL(A_4,E_0_4,C_4,E_g_4,E)+\\\n",
    "              epsilon_i_TL(A_5,E_0_5,C_5,E_g_5,E)\n",
    "    epsilon_r=epsilon_r_TL(A_1,E_0_1,C_1,E_g_1,E)+\\\n",
    "              epsilon_r_TL(A_2,E_0_2,C_2,E_g_2,E)+\\\n",
    "              epsilon_r_TL(A_3,E_0_3,C_3,E_g_3,E)+\\\n",
    "              epsilon_r_TL(A_4,E_0_4,C_4,E_g_4,E)+\\\n",
    "              epsilon_r_TL(A_5,E_0_5,C_5,E_g_5,E)+\\\n",
    "              epsilon_inf\n",
    "    #calculate refractive index from dielectric constants. This section\n",
    "    #will be the same for every materials as long as their dielectric\n",
    "    #functions are called epsilon_i, epsilon_r\n",
    "    \n",
    "    epsilon_module=(epsilon_r**2+epsilon_i**2)**(1/2)\n",
    "    n_perovskite=((epsilon_module+epsilon_r)/2)**(1/2)\n",
    "    k_perovskite=((epsilon_module-epsilon_r)/2)**(1/2)\n",
    "        \n",
    "    nk_perovskite= complex(n_perovskite, k_perovskite)\n",
    "    \n",
    "    return nk_perovskite;"
   ]
  },
  {
   "cell_type": "markdown",
   "id": "e3a0f448",
   "metadata": {},
   "source": [
    "# Calculate optical constants for a range of wavelengths"
   ]
  },
  {
   "cell_type": "code",
   "execution_count": 31,
   "id": "1d1ec57f",
   "metadata": {},
   "outputs": [],
   "source": [
    "#set initial parameters\n",
    "A_1=48\n",
    "A_2=7\n",
    "A_3=6\n",
    "A_4=9.5\n",
    "A_5=3.3\n",
    "\n",
    "E_0_1=4\n",
    "E_0_2=1.9\n",
    "E_0_3=2.53\n",
    "E_0_4=3.33\n",
    "E_0_5=6.4\n",
    "\n",
    "C_1=7.05\n",
    "C_2=0.35\n",
    "C_3=0.5\n",
    "C_4=0.77\n",
    "C_5=3.3\n",
    "\n",
    "E_g_1=1.56\n",
    "E_g_2=1.56\n",
    "E_g_3=1.56\n",
    "E_g_4=1.56\n",
    "E_g_5=1.56\n",
    "\n",
    "epsilon_inf=0\n",
    "\n",
    "n_perovskite=[]\n",
    "k_perovskite=[]\n",
    "\n",
    "#set wavelength range\n",
    "lambda_list = linspace(300,1000,500) #in nm\n",
    "\n",
    "# calculate opt\n",
    "for lambda_vac in lambda_list:\n",
    "    #convert wavelength to energy\n",
    "    E=1240/lambda_vac\n",
    "    params=A_1,E_0_1,C_1,E_g_1,\\\n",
    "       A_2,E_0_2,C_2,E_g_2,\\\n",
    "       A_3,E_0_3,C_3,E_g_3,\\\n",
    "       A_4,E_0_4,C_4,E_g_4,\\\n",
    "       A_5,E_0_5,C_5,E_g_5,\\\n",
    "       E, epsilon_inf\n",
    "    n_perovskite.append(nk_perovskite(params).real)\n",
    "    k_perovskite.append(nk_perovskite(params).imag)\n",
    "    # angle in degrees\n",
    "\n",
    "mod=pd.DataFrame({\"n_material\":n_perovskite,\n",
    "                       \"k_material\":k_perovskite})"
   ]
  },
  {
   "cell_type": "markdown",
   "id": "345a7073",
   "metadata": {},
   "source": [
    "# Plot optical contants"
   ]
  },
  {
   "cell_type": "code",
   "execution_count": 32,
   "id": "f8b97c06",
   "metadata": {},
   "outputs": [
    {
     "data": {
      "image/png": "[encoded data removed]",
      "text/plain": [
       "<Figure size 432x288 with 2 Axes>"
      ]
     },
     "metadata": {
      "needs_background": "light"
     },
     "output_type": "display_data"
    }
   ],
   "source": [
    "# plot nk\n",
    "fig, ax1 = plt.subplots()\n",
    "\n",
    "color = 'b'\n",
    "ax1.set_xlabel('Wavelength (nm)')\n",
    "ax1.set_ylabel('n', color=color)\n",
    "ax1.plot(lambda_list,n_perovskite, 'b-', markerfacecolor='none', ms=7, markeredgecolor='red')\n",
    "ax1.tick_params(axis='y', labelcolor=color)\n",
    "\n",
    "ax2 = ax1.twinx()  # instantiate a second axes that shares the same x-axis\n",
    "\n",
    "color = 'r'\n",
    "ax2.set_ylabel('k', color=color)  # we already handled the x-label with ax1\n",
    "ax2.plot(lambda_list , k_perovskite ,'r-', markerfacecolor='none', ms=7, markeredgecolor='blue')\n",
    "ax2.tick_params(axis='y', labelcolor=color)\n",
    "\n",
    "fig.tight_layout()  # otherwise the right y-label is slightly clipped\n",
    "plt.show()"
   ]
  },
  {
   "cell_type": "code",
   "execution_count": null,
   "id": "f2063022",
   "metadata": {},
   "outputs": [],
   "source": []
  }
 ],
 "metadata": {
  "kernelspec": {
   "display_name": "Python 3",
   "language": "python",
   "name": "python3"
  },
  "language_info": {
   "codemirror_mode": {
    "name": "ipython",
    "version": 3
   },
   "file_extension": ".py",
   "mimetype": "text/x-python",
   "name": "python",
   "nbconvert_exporter": "python",
   "pygments_lexer": "ipython3",
   "version": "3.8.8"
  }
 },
 "nbformat": 4,
 "nbformat_minor": 5
}
