{
 "cells": [
  {
   "cell_type": "code",
   "execution_count": 1,
   "id": "d837514c",
   "metadata": {},
   "outputs": [],
   "source": [
    "import numpy as np\n",
    "import pandas as pd\n",
    "import tmm\n",
    "\n",
    "# imports and setup for tmm\n",
    "from __future__ import division, print_function, absolute_import\n",
    "\n",
    "from tmm import (coh_tmm, unpolarized_RT, ellips,\n",
    "                       position_resolved, find_in_structure_with_inf)\n",
    "\n",
    "from numpy import pi, linspace, inf, array\n",
    "from scipy.interpolate import interp1d\n",
    "import matplotlib.pyplot as plt\n",
    "%matplotlib inline\n",
    "\n",
    "\n",
    "# \"5 * degree\" is 5 degrees expressed in radians\n",
    "# \"1.2 / degree\" is 1.2 radians expressed in degrees\n",
    "degree = pi/180"
   ]
  },
  {
   "cell_type": "markdown",
   "id": "c8c21206",
   "metadata": {},
   "source": [
    "# Import experimental data\n",
    "In this example we will use just one angle of incidence"
   ]
  },
  {
   "cell_type": "code",
   "execution_count": 2,
   "id": "6071cc74",
   "metadata": {},
   "outputs": [],
   "source": [
    "# Read the raw data file, skip the first three rows without a header and select the following 51 rows\n",
    "raw_data = pd.read_csv('25 nm of SiO2.dat', sep = '\\t', skiprows=3 , nrows=51 , header=None)\n",
    "#Rename the columns of the raw data frame into relevant features\n",
    "raw_data.columns = ['lambda_vac', 'th_0', 'psi_exp', 'delta_exp', 'psi_exp_sigma', 'delta_exp_sigma']"
   ]
  },
  {
   "cell_type": "markdown",
   "id": "34b852a3",
   "metadata": {},
   "source": [
    "# Import Silicon refractive index\n",
    "Monocrystalline Silicon refractive index data is imported from a tabulated list"
   ]
  },
  {
   "cell_type": "code",
   "execution_count": 3,
   "id": "a48051fd",
   "metadata": {},
   "outputs": [],
   "source": [
    "from materials import (Si_nk_fn)"
   ]
  },
  {
   "cell_type": "markdown",
   "id": "ee92d4ae",
   "metadata": {},
   "source": [
    "# Create a function-based refractive index for SiO$_2$\n",
    "\n",
    "#In this case since SiO2 is a transparent material, the index of refraction n and absorption coefficient k can be described by a slowly varying function of wavelength, $\\lambda$ (in um), and an exponential absorption tail, respectively. This model is called a Cauchy layer.\n",
    "\n",
    "\\begin{equation}\n",
    "n(\\lambda)=A+\\frac{B}{\\lambda^2}+\\frac{C}{\\lambda^4}\n",
    "\\tag{1}\n",
    "\\end{equation}\n",
    "\\begin{equation}\n",
    "k(\\lambda)=\\alpha e^{\\beta\\left[1.24\\mu m\\left(\\frac{1}{\\lambda}-\\frac{1}{\\gamma}\\right)\\right]}\n",
    "\\tag{2}\n",
    "\\end{equation}\n",
    "\n",
    "The parameters of this model are A, B, C, extintion coefficient amplitude $\\alpha$, exponent factor $\\beta$ and band edge $\\gamma$ (in $\\mu m$).\n"
   ]
  },
  {
   "cell_type": "code",
   "execution_count": 4,
   "id": "40a3b3e5",
   "metadata": {},
   "outputs": [],
   "source": [
    "import math\n",
    "\n",
    "def nk_cauchy(A,B,C,alpha, beta, gamma, lambda_vac):\n",
    "    \n",
    "#the values are entered in nm\n",
    "    \n",
    "    #convert to um\n",
    "    lambda_vac_um=lambda_vac/1000\n",
    "    gamma_um=gamma/1000\n",
    "    \n",
    "    #calculate n\n",
    "    n_cauchy=A+B/(lambda_vac_um)**2+C/(lambda_vac_um)**4\n",
    "    \n",
    "    #calculate k\n",
    "    k_cauchy=alpha*math.exp(beta*(1.24*((1/lambda_vac_um)-(1/gamma_um))))\n",
    "    \n",
    "    #return complex refractive index\n",
    "    return complex(n_cauchy, k_cauchy);"
   ]
  },
  {
   "cell_type": "markdown",
   "id": "20217a82",
   "metadata": {},
   "source": [
    "# Define MSE\n",
    "The mean squared error (MSE) is defined as a function of the thickness and parameters $A$ and $B$ of the Cauchy layer, which is modeled on top of a silicon substrate simulating an air/SiO$_2$/Si material.\n",
    "Notice that we set $\\alpha=0$ so that $k=0$ (see Eq.(2)), this is because SiO$_2$ is known to behave as a fully transparent material, in this case $\\beta$ and $\\gamma$ will not affect the model. For the remaining parameters $C=0$ and a sufficiently small value for $B$ are common assumptions for non absorbing films.  "
   ]
  },
  {
   "cell_type": "code",
   "execution_count": 5,
   "id": "3ffc21bb",
   "metadata": {},
   "outputs": [],
   "source": [
    "def MSE(params):\n",
    "    \n",
    "    #set the known parameters. \n",
    "    alpha=0\n",
    "    beta=1.5\n",
    "    gamma=400 \n",
    "    B=0.01\n",
    "    C=0\n",
    "    thickness,A = params\n",
    "    \n",
    "    #set number of layers and thickness\n",
    "    d_list = [inf,thickness,inf] #in nm\n",
    "    \n",
    "    #set wavelength range\n",
    "    lambda_list = linspace(300,800,51) #in nm\n",
    "    \n",
    "    # calculate psi and delta from the model \n",
    "    psi_mod=[]\n",
    "    delta_mod=[]\n",
    "    for lambda_vac in lambda_list:\n",
    "                n_list = [1,nk_cauchy(A,B,C,alpha, beta, gamma, lambda_vac),Si_nk_fn(lambda_vac)]\n",
    "                e_data=ellips(n_list, d_list, 65*degree, lambda_vac) #in nm\n",
    "                psi_mod.append(e_data['psi']/degree) # angle in degrees\n",
    "                delta_mod.append((pi-e_data['Delta'])/degree) # angle in degrees\n",
    "    # make a dataframe with the values from the model\n",
    "    mod=pd.DataFrame({\"psi_mod\":psi_mod,\n",
    "                       \"delta_mod\":delta_mod})\n",
    "    # calculate MSE\n",
    "    xi=((mod['psi_mod'] - raw_data['psi_exp'])/(raw_data['psi_exp_sigma']))**2+((mod['delta_mod'] - raw_data['delta_exp'])/(raw_data['delta_exp_sigma']))**2\n",
    "    MSE_calc=(xi.sum(axis=0)/(2*len(xi)-1))**(1/2)\n",
    "\n",
    "    return MSE_calc"
   ]
  },
  {
   "cell_type": "markdown",
   "id": "d88a0dea",
   "metadata": {},
   "source": [
    "# Fit model to experimental data\n",
    "Find the parameters that give the minimum MSE. If the model is correct, this parameters are the best description to your sample. "
   ]
  },
  {
   "cell_type": "code",
   "execution_count": 6,
   "id": "ac4cddcb",
   "metadata": {},
   "outputs": [
    {
     "name": "stdout",
     "output_type": "stream",
     "text": [
      "Fitted parameters:\n",
      "thickness = 24.20908331422758\n",
      "A= 1.4705548685365346\n",
      "MSE= 9.230745643644585\n"
     ]
    }
   ],
   "source": [
    "import scipy.optimize as optimize\n",
    "\n",
    "#set initial parameters to start the optimization\n",
    "initial_guess = [25, 1.5]\n",
    "\n",
    "result = optimize.minimize(MSE, initial_guess)\n",
    "\n",
    "if result.success:\n",
    "    fitted_params = result.x\n",
    "    print('Fitted parameters:')\n",
    "    print('thickness =',fitted_params[0])\n",
    "    print('A=',fitted_params[1])\n",
    "    print('MSE=', MSE(fitted_params))\n",
    "else:\n",
    "    raise ValueError(result.message)"
   ]
  },
  {
   "cell_type": "markdown",
   "id": "774b1f08",
   "metadata": {},
   "source": [
    "# Calculate $\\Psi(\\lambda)$ and $\\Delta(\\lambda)$ using fitted parameters"
   ]
  },
  {
   "cell_type": "code",
   "execution_count": 7,
   "id": "6404d4ba",
   "metadata": {},
   "outputs": [],
   "source": [
    "#set the known parameters. \n",
    "alpha=0\n",
    "beta=1.5\n",
    "gamma=400 \n",
    "B=0.01\n",
    "C=0\n",
    "\n",
    "#use the optimum parameters as the unknowns\n",
    "thickness,A=fitted_params\n",
    "\n",
    "#set number of layers and thickness\n",
    "d_list = [inf,thickness,inf] #in nm\n",
    "\n",
    "#set wavelength range\n",
    "lambda_list = linspace(300,800,51) #in nm\n",
    "\n",
    "# calculate psi and delta from the model \n",
    "psi_mod=[]\n",
    "delta_mod=[]\n",
    "for lambda_vac in lambda_list:\n",
    "    n_list = [1,nk_cauchy(A,B,C,alpha, beta, gamma, lambda_vac),Si_nk_fn(lambda_vac)]\n",
    "    e_data=ellips(n_list, d_list, 65*degree, lambda_vac) #in nm\n",
    "    psi_mod.append(e_data['psi']/degree) # angle in degrees\n",
    "    delta_mod.append((pi-e_data['Delta'])/degree) # angle in degrees\n"
   ]
  },
  {
   "cell_type": "markdown",
   "id": "9e8bdf08",
   "metadata": {},
   "source": [
    "# Plot generated and experimental data"
   ]
  },
  {
   "cell_type": "code",
   "execution_count": 32,
   "id": "b49f986d",
   "metadata": {},
   "outputs": [
    {
     "name": "stdout",
     "output_type": "stream",
     "text": [
      "MSE= 9.230745643644585\n"
     ]
    },
    {
     "data": {
      "image/png": "[encoded data removed]",
      "text/plain": [
       "<Figure size 432x288 with 2 Axes>"
      ]
     },
     "metadata": {
      "needs_background": "light"
     },
     "output_type": "display_data"
    }
   ],
   "source": [
    "#print the MSE\n",
    "print('MSE=',MSE(fitted_params))\n",
    "\n",
    "# plot modeled and experimental delta\n",
    "fig, ax1 = plt.subplots()\n",
    "\n",
    "color = 'b'\n",
    "ax1.set_xlabel('wavelength (nm)')\n",
    "ax1.set_ylabel('$\\Psi$ (degrees)', color=color)\n",
    "ax1.plot(lambda_list,delta_mod, 'r-', raw_data.lambda_vac ,raw_data.delta_exp, 'ro')\n",
    "ax1.tick_params(axis='y', labelcolor=color)\n",
    "\n",
    "ax2 = ax1.twinx()  # instantiate a second axes that shares the same x-axis\n",
    "\n",
    "color = 'r'\n",
    "ax2.set_ylabel('$\\Delta$ (degrees)', color=color)  # we already handled the x-label with ax1\n",
    "ax2.plot(lambda_list , psi_mod ,'b-', raw_data.lambda_vac , raw_data.psi_exp,'bo')\n",
    "ax2.tick_params(axis='y', labelcolor=color)\n",
    "\n",
    "fig.tight_layout()  # otherwise the right y-label is slightly clipped\n",
    "plt.show()"
   ]
  }
 ],
 "metadata": {
  "kernelspec": {
   "display_name": "Python 3",
   "language": "python",
   "name": "python3"
  },
  "language_info": {
   "codemirror_mode": {
    "name": "ipython",
    "version": 3
   },
   "file_extension": ".py",
   "mimetype": "text/x-python",
   "name": "python",
   "nbconvert_exporter": "python",
   "pygments_lexer": "ipython3",
   "version": "3.8.8"
  }
 },
 "nbformat": 4,
 "nbformat_minor": 5
}
