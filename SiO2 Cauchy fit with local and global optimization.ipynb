{
 "cells": [
  {
   "cell_type": "code",
   "execution_count": 1,
   "id": "d837514c",
   "metadata": {},
   "outputs": [],
   "source": [
    "import numpy as np\n",
    "import pandas as pd\n",
    "import tmm\n",
    "\n",
    "# imports and setup for tmm\n",
    "from __future__ import division, print_function, absolute_import\n",
    "\n",
    "from tmm import (coh_tmm, unpolarized_RT, ellips,\n",
    "                       position_resolved, find_in_structure_with_inf)\n",
    "\n",
    "from numpy import pi, linspace, inf, array\n",
    "from scipy.interpolate import interp1d\n",
    "import matplotlib.pyplot as plt\n",
    "%matplotlib inline\n",
    "\n",
    "\n",
    "# \"5 * degree\" is 5 degrees expressed in radians\n",
    "# \"1.2 / degree\" is 1.2 radians expressed in degrees\n",
    "degree = pi/180"
   ]
  },
  {
   "cell_type": "markdown",
   "id": "e6e3d5a6",
   "metadata": {},
   "source": [
    "# Import experimental data\n",
    "In this example we will use just one angle of incidence"
   ]
  },
  {
   "cell_type": "code",
   "execution_count": 2,
   "id": "9c16b54e",
   "metadata": {},
   "outputs": [],
   "source": [
    "# Read the raw data file, skip the first three rows without a header and select the following 51 rows\n",
    "raw_data = pd.read_csv('25 nm of SiO2.dat', sep = '\\t', skiprows=3 , nrows=51 , header=None)\n",
    "#Rename the columns of the raw data frame into relevant features\n",
    "raw_data.columns = ['lambda_vac', 'th_0', 'psi_exp', 'delta_exp', 'psi_exp_sigma', 'delta_exp_sigma']"
   ]
  },
  {
   "cell_type": "markdown",
   "id": "6d59f6f0",
   "metadata": {},
   "source": [
    "# Import Silicon refractive index\n",
    "Monocrystalline Silicon refractive index data is imported from a tabulated list"
   ]
  },
  {
   "cell_type": "code",
   "execution_count": 3,
   "id": "a48051fd",
   "metadata": {},
   "outputs": [],
   "source": [
    "from materials import (Si_nk_fn)"
   ]
  },
  {
   "cell_type": "markdown",
   "id": "3109fb72",
   "metadata": {},
   "source": [
    "# Create a function-based refractive index for SiO$_2$\n",
    "\n",
    "#In this case since SiO2 is a transparent material, the index of refraction n and absorption coefficient k can be described by a slowly varying function of wavelength, $\\lambda$ (in um), and an exponential absorption tail, respectively. This model is called a Cauchy layer.\n",
    "\n",
    "\\begin{equation}\n",
    "n(\\lambda)=A+\\frac{B}{\\lambda^2}+\\frac{C}{\\lambda^4}\n",
    "\\tag{1}\n",
    "\\end{equation}\n",
    "\\begin{equation}\n",
    "k(\\lambda)=\\alpha e^{\\beta\\left[1.24\\mu m\\left(\\frac{1}{\\lambda}-\\frac{1}{\\gamma}\\right)\\right]}\n",
    "\\tag{2}\n",
    "\\end{equation}\n",
    "\n",
    "The parameters of this model are A, B, C, extintion coefficient amplitude $\\alpha$, exponent factor $\\beta$ and band edge $\\gamma$ (in $\\mu m$).\n"
   ]
  },
  {
   "cell_type": "code",
   "execution_count": 4,
   "id": "40a3b3e5",
   "metadata": {},
   "outputs": [],
   "source": [
    "import math\n",
    "\n",
    "def nk_cauchy(A,B,C,alpha, beta, gamma, lambda_vac):\n",
    "    \n",
    "#the values are entered in nm\n",
    "    \n",
    "    #convert to um\n",
    "    lambda_vac_um=lambda_vac/1000\n",
    "    gamma_um=gamma/1000\n",
    "    \n",
    "    #calculate n\n",
    "    n_cauchy=A+B/(lambda_vac_um)**2+C/(lambda_vac_um)**4\n",
    "    \n",
    "    #calculate k\n",
    "    k_cauchy=alpha*math.exp(beta*(1.24*((1/lambda_vac_um)-(1/gamma_um))))\n",
    "    \n",
    "    #return complex refractive index\n",
    "    return complex(n_cauchy, k_cauchy);"
   ]
  },
  {
   "cell_type": "markdown",
   "id": "8724c94f",
   "metadata": {},
   "source": [
    "# Define MSE\n",
    "The mean squared error (MSE) is defined as a function of the thickness and parameters $A$, $B$ and $C$ of the Cauchy layer, which is modeled on top of a silicon substrate simulating an air/SiO$_2$/Si material.\n",
    "Notice that we set $\\alpha=0$ so that $k=0$ (see Eq.(2)), this is because SiO$_2$ is known to behave as a fully transparent material, in this case $\\beta$ and $\\gamma$ will not affect the model."
   ]
  },
  {
   "cell_type": "code",
   "execution_count": 15,
   "id": "3ffc21bb",
   "metadata": {},
   "outputs": [],
   "source": [
    "def MSE(params):\n",
    "    \n",
    "    #set the known parameters. \n",
    "    alpha=0\n",
    "    beta=0\n",
    "    gamma=400\n",
    "    thickness,A,B,C= params\n",
    "    \n",
    "    #set number of layers and thickness\n",
    "    d_list = [inf,thickness,inf] #in nm\n",
    "    \n",
    "    #set wavelength range\n",
    "    lambda_list = linspace(300,800,51) #in nm\n",
    "    \n",
    "    # calculate psi and delta from the model \n",
    "    psi_mod=[]\n",
    "    delta_mod=[]\n",
    "    for lambda_vac in lambda_list:\n",
    "                n_list = [1,nk_cauchy(A,B,C,alpha, beta, gamma, lambda_vac),Si_nk_fn(lambda_vac)]\n",
    "                e_data=ellips(n_list, d_list, 65*degree, lambda_vac) #in nm\n",
    "                psi_mod.append(e_data['psi']/degree) # angle in degrees\n",
    "                delta_mod.append((pi-e_data['Delta'])/degree) # angle in degrees\n",
    "    # make a dataframe with the values from the model\n",
    "    mod=pd.DataFrame({\"psi_mod\":psi_mod,\n",
    "                       \"delta_mod\":delta_mod})\n",
    "    # calculate MSE\n",
    "    xi=((mod['psi_mod'] - raw_data['psi_exp'])/(raw_data['psi_exp_sigma']))**2+((mod['delta_mod'] - raw_data['delta_exp'])/(raw_data['delta_exp_sigma']))**2\n",
    "    MSE_calc=(xi.sum(axis=0)/(2*len(xi)-1))**(1/2)\n",
    "\n",
    "    return MSE_calc"
   ]
  },
  {
   "cell_type": "markdown",
   "id": "ea5d6c7d",
   "metadata": {},
   "source": [
    "# Fit model to experimental data using local optimization\n",
    "Find the parameters that give the minimum MSE. If the model is correct, this parameters are the best description to your sample. "
   ]
  },
  {
   "cell_type": "code",
   "execution_count": 18,
   "id": "12549ae7",
   "metadata": {},
   "outputs": [
    {
     "name": "stdout",
     "output_type": "stream",
     "text": [
      "Fitted parameters:\n",
      "thickness = 23.919758747562906\n",
      "A= 1.5287117401743906\n",
      "MSE= 4.587477421990948\n",
      "Wall time: 4.27 s\n"
     ]
    }
   ],
   "source": [
    "%%time\n",
    "import scipy.optimize as optimize\n",
    "\n",
    "#set initial parameters to start the optimization\n",
    "initial_guess = [24, 1.5,0,0]\n",
    "\n",
    "# set bound values for each parameter to be fitted\n",
    "bounds = [(0,50), (1,3),(0,.5),(0,.5)]\n",
    "\n",
    "#set parameters for optimization\n",
    "result = optimize.minimize(MSE, initial_guess,bounds = bounds)\n",
    "\n",
    "if result.success:\n",
    "    fitted_params_local = result.x\n",
    "    print('Fitted parameters:')\n",
    "    print('thickness =',fitted_params_local[0])\n",
    "    print('A=',fitted_params_local[1])\n",
    "    print('MSE=', result.fun)\n",
    "else:\n",
    "    raise ValueError(result.message)"
   ]
  },
  {
   "cell_type": "markdown",
   "id": "b6d7c535",
   "metadata": {},
   "source": [
    "# Fit model to experimental data using global optimization\n",
    "Find the parameters that give the minimum MSE. If the model is correct, this parameters are the best description to your sample. \n",
    "The method used is differential evolution, the intial population is a random."
   ]
  },
  {
   "cell_type": "code",
   "execution_count": 7,
   "id": "a58a9f7a",
   "metadata": {
    "scrolled": true
   },
   "outputs": [
    {
     "name": "stdout",
     "output_type": "stream",
     "text": [
      "differential_evolution step 1: f(x)= 169.094\n",
      "differential_evolution step 2: f(x)= 128.951\n",
      "differential_evolution step 3: f(x)= 128.951\n",
      "differential_evolution step 4: f(x)= 96.1138\n",
      "differential_evolution step 5: f(x)= 94.9024\n",
      "differential_evolution step 6: f(x)= 88.0971\n",
      "differential_evolution step 7: f(x)= 88.0971\n",
      "differential_evolution step 8: f(x)= 74.0022\n",
      "differential_evolution step 9: f(x)= 64.4068\n",
      "differential_evolution step 10: f(x)= 64.4068\n",
      "differential_evolution step 11: f(x)= 64.4068\n",
      "differential_evolution step 12: f(x)= 53.606\n",
      "differential_evolution step 13: f(x)= 44.5817\n",
      "differential_evolution step 14: f(x)= 36.707\n",
      "differential_evolution step 15: f(x)= 36.707\n",
      "differential_evolution step 16: f(x)= 28.0097\n",
      "differential_evolution step 17: f(x)= 26.8451\n",
      "differential_evolution step 18: f(x)= 19.669\n",
      "differential_evolution step 19: f(x)= 19.669\n",
      "differential_evolution step 20: f(x)= 15.6602\n",
      "differential_evolution step 21: f(x)= 15.6602\n",
      "differential_evolution step 22: f(x)= 15.6602\n",
      "differential_evolution step 23: f(x)= 15.6602\n",
      "differential_evolution step 24: f(x)= 11.2696\n",
      "differential_evolution step 25: f(x)= 9.33602\n",
      "differential_evolution step 26: f(x)= 9.33602\n",
      "differential_evolution step 27: f(x)= 5.36752\n",
      "differential_evolution step 28: f(x)= 5.36752\n",
      "differential_evolution step 29: f(x)= 5.36752\n",
      "differential_evolution step 30: f(x)= 5.36752\n",
      "differential_evolution step 31: f(x)= 5.36752\n",
      "differential_evolution step 32: f(x)= 5.36752\n",
      "differential_evolution step 33: f(x)= 5.36752\n",
      "differential_evolution step 34: f(x)= 5.36752\n",
      "differential_evolution step 35: f(x)= 5.36752\n",
      "differential_evolution step 36: f(x)= 5.36752\n",
      "differential_evolution step 37: f(x)= 5.36752\n",
      "differential_evolution step 38: f(x)= 5.36752\n",
      "differential_evolution step 39: f(x)= 5.36752\n",
      "differential_evolution step 40: f(x)= 5.36752\n",
      "differential_evolution step 41: f(x)= 5.36752\n",
      "differential_evolution step 42: f(x)= 5.36752\n",
      "differential_evolution step 43: f(x)= 5.36752\n",
      "differential_evolution step 44: f(x)= 5.33827\n",
      "differential_evolution step 45: f(x)= 5.08013\n",
      "differential_evolution step 46: f(x)= 5.08013\n",
      "differential_evolution step 47: f(x)= 5.08013\n",
      "differential_evolution step 48: f(x)= 4.8986\n",
      "differential_evolution step 49: f(x)= 4.89707\n",
      "differential_evolution step 50: f(x)= 4.86224\n",
      "differential_evolution step 51: f(x)= 4.86224\n",
      "differential_evolution step 52: f(x)= 4.6731\n",
      "differential_evolution step 53: f(x)= 4.6731\n",
      "differential_evolution step 54: f(x)= 4.6731\n",
      "differential_evolution step 55: f(x)= 4.6731\n",
      "differential_evolution step 56: f(x)= 4.6731\n",
      "differential_evolution step 57: f(x)= 4.6731\n",
      "differential_evolution step 58: f(x)= 4.6731\n",
      "differential_evolution step 59: f(x)= 4.6731\n",
      "differential_evolution step 60: f(x)= 4.66407\n",
      "differential_evolution step 61: f(x)= 4.66407\n",
      "differential_evolution step 62: f(x)= 4.66407\n",
      "differential_evolution step 63: f(x)= 4.64339\n",
      "differential_evolution step 64: f(x)= 4.63901\n",
      "differential_evolution step 65: f(x)= 4.63901\n",
      "differential_evolution step 66: f(x)= 4.63901\n",
      "differential_evolution step 67: f(x)= 4.61021\n",
      "differential_evolution step 68: f(x)= 4.60295\n",
      "differential_evolution step 69: f(x)= 4.60295\n",
      "differential_evolution step 70: f(x)= 4.60295\n",
      "differential_evolution step 71: f(x)= 4.60295\n",
      "Fitted parameters:\n",
      "thickness = 23.91975904246755\n",
      "A= 1.5287117234515553\n",
      "B= 0.0\n",
      "C= 0.0\n",
      "MSE= 4.587477421992727\n",
      "Wall time: 3min 28s\n"
     ]
    }
   ],
   "source": [
    "%%time\n",
    "#use diferential evolution to find the global minimum\n",
    "from scipy.optimize import differential_evolution\n",
    "\n",
    "#set the bounds of the parameters to be fitted\n",
    "bounds = [(0,50), (1,3),(0,.5),(0,.5)]\n",
    "\n",
    "#set parameters for the model\n",
    "result=differential_evolution(MSE, bounds, args=(), \n",
    "                                      strategy='best1bin', maxiter=100, popsize=10, tol=0.01, \n",
    "                                      mutation=(0.5, 1), recombination=0.7, seed=None, callback=None, \n",
    "                                      disp=True, polish=True, init='latinhypercube', atol=0, \n",
    "                                     updating='immediate', workers=1, constraints=())\n",
    "\n",
    "fitted_params = result.x\n",
    "print('Fitted parameters:')\n",
    "print('thickness =',fitted_params[0])\n",
    "print('A=',fitted_params[1])\n",
    "print('B=',fitted_params[2])\n",
    "print('C=',fitted_params[3])\n",
    "print('MSE=', result.fun)"
   ]
  },
  {
   "cell_type": "markdown",
   "id": "5eca2909",
   "metadata": {},
   "source": [
    "# Calculate $\\Psi(\\lambda)$ and $\\Delta(\\lambda)$ using fitted parameters"
   ]
  },
  {
   "cell_type": "code",
   "execution_count": 8,
   "id": "508adba2",
   "metadata": {},
   "outputs": [],
   "source": [
    "#set the known parameters. \n",
    "\n",
    "alpha=0\n",
    "beta=0\n",
    "gamma=400 \n",
    "\n",
    "#use the optimum parameters as the unknowns\n",
    "thickness,A,B,C=fitted_params\n",
    "\n",
    "#set number of layers and thickness\n",
    "d_list = [inf,thickness,inf] #in nm\n",
    "\n",
    "#set wavelength range\n",
    "lambda_list = linspace(300,800,51) #in nm\n",
    "\n",
    "# calculate psi and delta from the model \n",
    "psi_mod=[]\n",
    "delta_mod=[]\n",
    "for lambda_vac in lambda_list:\n",
    "    n_list = [1,nk_cauchy(A,B,C,alpha, beta, gamma, lambda_vac),Si_nk_fn(lambda_vac)]\n",
    "    e_data=ellips(n_list, d_list, 65*degree, lambda_vac) #in nm\n",
    "    psi_mod.append(e_data['psi']/degree) # angle in degrees\n",
    "    delta_mod.append((pi-e_data['Delta'])/degree) # angle in degrees"
   ]
  },
  {
   "cell_type": "markdown",
   "id": "38453aa8",
   "metadata": {},
   "source": [
    "# Plot generated and experimental data"
   ]
  },
  {
   "cell_type": "code",
   "execution_count": 9,
   "id": "750090ed",
   "metadata": {
    "scrolled": true
   },
   "outputs": [
    {
     "name": "stdout",
     "output_type": "stream",
     "text": [
      "MSE= 4.587477421992727\n"
     ]
    },
    {
     "data": {
      "image/png": "[encoded data removed]",
      "text/plain": [
       "<Figure size 432x288 with 2 Axes>"
      ]
     },
     "metadata": {
      "needs_background": "light"
     },
     "output_type": "display_data"
    }
   ],
   "source": [
    "#print the MSE\n",
    "print('MSE=',MSE(fitted_params))\n",
    "\n",
    "# plot modeled and experimental delta\n",
    "fig, ax1 = plt.subplots()\n",
    "\n",
    "color = 'b'\n",
    "ax1.set_xlabel('wavelength (nm)')\n",
    "ax1.set_ylabel('$\\Psi$ (degrees)', color=color)\n",
    "ax1.plot(lambda_list,delta_mod, 'r-', raw_data.lambda_vac ,raw_data.delta_exp, 'ro', markerfacecolor='none', ms=7, markeredgecolor='red')\n",
    "ax1.tick_params(axis='y', labelcolor=color)\n",
    "\n",
    "ax2 = ax1.twinx()  # instantiate a second axes that shares the same x-axis\n",
    "\n",
    "color = 'r'\n",
    "ax2.set_ylabel('$\\Delta$ (degrees)', color=color)  # we already handled the x-label with ax1\n",
    "ax2.plot(lambda_list , psi_mod ,'b-', raw_data.lambda_vac , raw_data.psi_exp,'bo', markerfacecolor='none', ms=7, markeredgecolor='blue')\n",
    "ax2.tick_params(axis='y', labelcolor=color)\n",
    "\n",
    "fig.tight_layout()  # otherwise the right y-label is slightly clipped\n",
    "plt.show()"
   ]
  },
  {
   "cell_type": "markdown",
   "id": "590bf4dd",
   "metadata": {},
   "source": [
    "# Using previous fitted parameters as initial guess\n",
    "Here the initial population is given by a Gaussian distribution centered at the previous fitted parameters"
   ]
  },
  {
   "cell_type": "code",
   "execution_count": 19,
   "id": "e8ebbbce",
   "metadata": {},
   "outputs": [
    {
     "name": "stdout",
     "output_type": "stream",
     "text": [
      "differential_evolution step 1: f(x)= 5.82144\n",
      "differential_evolution step 2: f(x)= 5.82144\n",
      "differential_evolution step 3: f(x)= 5.37275\n",
      "differential_evolution step 4: f(x)= 5.37275\n",
      "differential_evolution step 5: f(x)= 4.95506\n",
      "differential_evolution step 6: f(x)= 4.71924\n",
      "differential_evolution step 7: f(x)= 4.71924\n",
      "differential_evolution step 8: f(x)= 4.70337\n",
      "differential_evolution step 9: f(x)= 4.61383\n",
      "differential_evolution step 10: f(x)= 4.60643\n",
      "differential_evolution step 11: f(x)= 4.58995\n",
      "differential_evolution step 12: f(x)= 4.58995\n",
      "differential_evolution step 13: f(x)= 4.58886\n",
      "differential_evolution step 14: f(x)= 4.58886\n",
      "differential_evolution step 15: f(x)= 4.58776\n",
      "differential_evolution step 16: f(x)= 4.58768\n",
      "differential_evolution step 17: f(x)= 4.58768\n",
      "Fitted parameters:\n",
      "thickness = 23.915393566518805\n",
      "A= 1.5289084079597328\n",
      "B= 0.0\n",
      "C= 0.0\n",
      "MSE= 4.587561033049325\n",
      "Wall time: 6.33 s\n"
     ]
    }
   ],
   "source": [
    "%%time\n",
    "#set the bounds of the parameters to be fitted\n",
    "bounds = [(20,30), (1,2),(0,.1),(0,.1)]\n",
    "\n",
    "#set initial guess for parameters\n",
    "from random import seed\n",
    "from random import gauss\n",
    "# seed random number generator\n",
    "seed(1)\n",
    "\n",
    "x_0=[]\n",
    "x_1=[]\n",
    "x_2=[]\n",
    "x_3=[]\n",
    "# generate some Gaussian values around the previous fitted values with a standard deviation of 1%\n",
    "for _ in range(15):\n",
    "    x_0.append(gauss(fitted_params[0], fitted_params[0]*.1))\n",
    "    x_1.append(gauss(fitted_params[1], fitted_params[1]*.1))\n",
    "    x_2.append(gauss(fitted_params[2], fitted_params[2]*.1))\n",
    "    x_3.append(gauss(fitted_params[3], fitted_params[3]*.1))\n",
    "#write DataFrame with initial population\n",
    "initial_guess=pd.DataFrame({\"x_0\":x_0,\n",
    "                       \"x_1\":x_1,\"x_2\":x_2,\"x_3\":x_3})\n",
    "\n",
    "\n",
    "#minimize MSE and display the best \n",
    "#result = differential_evolution(MSE, bounds,disp=True)\n",
    "result=differential_evolution(MSE, bounds, args=(), \n",
    "                                      strategy='best1bin', maxiter=100, popsize=15, tol=0.01, \n",
    "                                      mutation=(0.5, 1), recombination=0.7, seed=None, callback=None, \n",
    "                                      disp=True, polish=True, init=initial_guess, atol=0, \n",
    "                                      updating='immediate', workers=1, constraints=())\n",
    "\n",
    "fitted_params = result.x\n",
    "print('Fitted parameters:')\n",
    "print('thickness =',fitted_params[0])\n",
    "print('A=',fitted_params[1])\n",
    "print('B=',fitted_params[2])\n",
    "print('C=',fitted_params[3])\n",
    "print('MSE=', result.fun)"
   ]
  },
  {
   "cell_type": "markdown",
   "id": "90134961",
   "metadata": {},
   "source": [
    "# Calculate $\\Psi(\\lambda)$ and $\\Delta(\\lambda)$ using fitted parameters"
   ]
  },
  {
   "cell_type": "code",
   "execution_count": 12,
   "id": "ac23a0a4",
   "metadata": {},
   "outputs": [],
   "source": [
    "#set the known parameters. \n",
    "alpha=0\n",
    "beta=0\n",
    "gamma=400 \n",
    "\n",
    "#use the optimum parameters as the unknowns\n",
    "thickness,A,B,C=fitted_params\n",
    "\n",
    "#set number of layers and thickness\n",
    "d_list = [inf,thickness,inf] #in nm\n",
    "\n",
    "#set wavelength range\n",
    "lambda_list = linspace(300,800,51) #in nm\n",
    "\n",
    "# calculate psi and delta from the model \n",
    "psi_mod=[]\n",
    "delta_mod=[]\n",
    "for lambda_vac in lambda_list:\n",
    "    n_list = [1,nk_cauchy(A,B,C,alpha, beta, gamma, lambda_vac),Si_nk_fn(lambda_vac)]\n",
    "    e_data=ellips(n_list, d_list, 65*degree, lambda_vac) #in nm\n",
    "    psi_mod.append(e_data['psi']/degree) # angle in degrees\n",
    "    delta_mod.append((pi-e_data['Delta'])/degree) # angle in degrees"
   ]
  },
  {
   "cell_type": "markdown",
   "id": "37d93763",
   "metadata": {},
   "source": [
    "# Plot generated and experimental data"
   ]
  },
  {
   "cell_type": "code",
   "execution_count": 13,
   "id": "8167cafa",
   "metadata": {},
   "outputs": [
    {
     "name": "stdout",
     "output_type": "stream",
     "text": [
      "MSE= 4.587571940840621\n"
     ]
    },
    {
     "data": {
      "image/png": "[encoded data removed]",
      "text/plain": [
       "<Figure size 432x288 with 2 Axes>"
      ]
     },
     "metadata": {
      "needs_background": "light"
     },
     "output_type": "display_data"
    }
   ],
   "source": [
    "#print the MSE\n",
    "print('MSE=',MSE(fitted_params))\n",
    "\n",
    "# plot modeled and experimental delta\n",
    "fig, ax1 = plt.subplots()\n",
    "\n",
    "color = 'b'\n",
    "ax1.set_xlabel('wavelength (nm)')\n",
    "ax1.set_ylabel('$\\Psi$ (degrees)', color=color)\n",
    "ax1.plot(lambda_list,delta_mod, 'r-', raw_data.lambda_vac ,raw_data.delta_exp, 'ro', markerfacecolor='none', ms=7, markeredgecolor='red')\n",
    "ax1.tick_params(axis='y', labelcolor=color)\n",
    "\n",
    "ax2 = ax1.twinx()  # instantiate a second axes that shares the same x-axis\n",
    "\n",
    "color = 'r'\n",
    "ax2.set_ylabel('$\\Delta$ (degrees)', color=color)  # we already handled the x-label with ax1\n",
    "ax2.plot(lambda_list , psi_mod ,'b-', raw_data.lambda_vac , raw_data.psi_exp,'bo', markerfacecolor='none', ms=7, markeredgecolor='blue')\n",
    "ax2.tick_params(axis='y', labelcolor=color)\n",
    "\n",
    "fig.tight_layout()  # otherwise the right y-label is slightly clipped\n",
    "plt.show()"
   ]
  },
  {
   "cell_type": "code",
   "execution_count": null,
   "id": "04d8a2ce",
   "metadata": {},
   "outputs": [],
   "source": []
  }
 ],
 "metadata": {
  "kernelspec": {
   "display_name": "Python 3",
   "language": "python",
   "name": "python3"
  },
  "language_info": {
   "codemirror_mode": {
    "name": "ipython",
    "version": 3
   },
   "file_extension": ".py",
   "mimetype": "text/x-python",
   "name": "python",
   "nbconvert_exporter": "python",
   "pygments_lexer": "ipython3",
   "version": "3.8.8"
  }
 },
 "nbformat": 4,
 "nbformat_minor": 5
}
